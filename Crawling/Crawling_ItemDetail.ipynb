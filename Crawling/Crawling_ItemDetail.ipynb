{
 "cells": [
  {
   "cell_type": "markdown",
   "id": "5820ed16",
   "metadata": {},
   "source": [
    "# Getting in through the login page"
   ]
  },
  {
   "cell_type": "code",
   "execution_count": 447,
   "id": "51792160",
   "metadata": {},
   "outputs": [],
   "source": [
    "# Download needed packages\n",
    "from selenium import webdriver\n",
    "from bs4 import BeautifulSoup as bs\n",
    "from selenium.webdriver.common.keys import Keys\n",
    "from selenium.webdriver.common.by import By \n",
    "from selenium.webdriver.chrome.service import Service\n",
    "import time\n",
    "import pandas as pd\n",
    "import config"
   ]
  },
  {
   "cell_type": "code",
   "execution_count": null,
   "id": "77ea12eb",
   "metadata": {},
   "outputs": [],
   "source": [
    "# Retriving username and password from alternate file\n",
    "bardough_username = config.username\n",
    "bardough_password = config.password"
   ]
  },
  {
   "cell_type": "code",
   "execution_count": 448,
   "id": "a8b22871",
   "metadata": {},
   "outputs": [],
   "source": [
    "# Open the web page that we want open and log in.\n",
    "path = '/Users/sigfus/Desktop/Lífið/Github/Bardough/Crawling/chromedriver-mac-x64/chromedriver'\n",
    "s = Service(path)\n",
    "driver = webdriver.Chrome(service = s)\n",
    "driver.get('https://www.toasttab.com/login')"
   ]
  },
  {
   "cell_type": "code",
   "execution_count": 449,
   "id": "a4604ffd",
   "metadata": {
    "scrolled": true
   },
   "outputs": [],
   "source": [
    "# Locate the username input field\n",
    "username = driver.find_element(By.ID, 'username') "
   ]
  },
  {
   "cell_type": "code",
   "execution_count": 450,
   "id": "56d2bcd2",
   "metadata": {},
   "outputs": [],
   "source": [
    "# Sign in with email first\n",
    "userid = bardough_username\n",
    "username.send_keys(userid)"
   ]
  },
  {
   "cell_type": "code",
   "execution_count": 451,
   "id": "eb7bac8c",
   "metadata": {},
   "outputs": [],
   "source": [
    "# Click the sign in button to prompt password\n",
    "sign_in_button = driver.find_element('xpath', '/html/body/div[2]/main/section/div/div/div/div/div/form/div[2]/button')\n",
    "sign_in_button.click()"
   ]
  },
  {
   "cell_type": "code",
   "execution_count": 452,
   "id": "fd74bfd6",
   "metadata": {},
   "outputs": [],
   "source": [
    "# Locate the password input field\n",
    "password = driver.find_element(By.ID, 'password')"
   ]
  },
  {
   "cell_type": "code",
   "execution_count": 453,
   "id": "a9cf9cc4",
   "metadata": {},
   "outputs": [],
   "source": [
    "# Sign in with password second\n",
    "key = bardough_password\n",
    "password.send_keys(key)"
   ]
  },
  {
   "cell_type": "code",
   "execution_count": 454,
   "id": "e3bf976c",
   "metadata": {},
   "outputs": [],
   "source": [
    "# Click the sign in button to enter page\n",
    "sign_in_button = driver.find_element('xpath', '/html/body/div[2]/main/section/div/div/div/form/div[3]/button')\n",
    "sign_in_button.click()"
   ]
  },
  {
   "cell_type": "code",
   "execution_count": 455,
   "id": "98243c51",
   "metadata": {},
   "outputs": [],
   "source": [
    "# Get url of Item Detail page manually (under reports --> menu)\n",
    "url = 'https://www.toasttab.com/restaurants/admin/reports/home#selection-details'\n",
    "driver.get(url)"
   ]
  },
  {
   "cell_type": "markdown",
   "id": "6d316a88",
   "metadata": {},
   "source": [
    "# Crawling Item Details data for December 2022 - November 2023"
   ]
  },
  {
   "cell_type": "markdown",
   "id": "d771d3f5",
   "metadata": {},
   "source": [
    "## Code for crawling 2023 item details data"
   ]
  },
  {
   "cell_type": "markdown",
   "id": "a9fefb7c",
   "metadata": {},
   "source": [
    "### Month changed for each iteration and total combined at end"
   ]
  },
  {
   "cell_type": "code",
   "execution_count": 361,
   "id": "331878b9",
   "metadata": {},
   "outputs": [],
   "source": [
    "# Crawl item details month by month\n",
    "\n",
    "nov_order_number = []\n",
    "nov_sent_date = []\n",
    "nov_menu_item = []\n",
    "nov_menu_group = []\n",
    "nov_menu = []\n",
    "nov_sales_category = []\n",
    "nov_net_price = []\n",
    "nov_quantity = []\n",
    "nov_void = []\n",
    "\n",
    "page = 0\n",
    "# Change page count based on number of pages\n",
    "while page < 69:\n",
    "    \n",
    "    # Scan page\n",
    "    soup = bs(driver.page_source)\n",
    "    \n",
    "    # Crawl page\n",
    "    ## Odd rows\n",
    "    odd_rows = soup.find_all(class_ = 'odd')\n",
    "    odd_list = []\n",
    "    for row in odd_rows:\n",
    "        # Find all cells in the row and loop through them\n",
    "        odd_cells = row.find_all('td')\n",
    "        for cell in odd_cells:\n",
    "            # Extract text from each cell and convert to int if possible\n",
    "            odd_text = cell.get_text()\n",
    "            odd_list.append(odd_text)\n",
    "    ## Even rows\n",
    "    even_rows = soup.find_all(class_ = 'even')\n",
    "    even_list = []\n",
    "    for row in even_rows:\n",
    "        # Find all cells in the row and loop through them\n",
    "        even_cells = row.find_all('td')\n",
    "        for cell in even_cells:\n",
    "            # Extract text from each cell and convert to int if possible\n",
    "            even_text = cell.get_text()\n",
    "            even_list.append(even_text)\n",
    "    # Combine lists        \n",
    "    total_list = odd_list + even_list\n",
    "    \n",
    "    # Sort and append lists\n",
    "    order_number = total_list[::9]\n",
    "    nov_order_number.append(order_number)\n",
    "    \n",
    "    sent_date = total_list[1::9]\n",
    "    nov_sent_date.append(sent_date)\n",
    "    \n",
    "    menu_item = total_list[2::9]\n",
    "    nov_menu_item.append(menu_item)\n",
    "    \n",
    "    menu_group = total_list[3::9]\n",
    "    nov_menu_group.append(menu_group)\n",
    "    \n",
    "    menu = total_list[4::9]\n",
    "    nov_menu.append(menu)\n",
    "    \n",
    "    sales_category = total_list[5::9]\n",
    "    nov_sales_category.append(sales_category)\n",
    "    \n",
    "    net_price = total_list[6::9]\n",
    "    nov_net_price.append(net_price)\n",
    "    \n",
    "    quantity = total_list[7::9]\n",
    "    nov_quantity.append(quantity)\n",
    "    \n",
    "    void = total_list[8::9]\n",
    "    nov_void.append(void)\n",
    "    \n",
    "    # Click to next page\n",
    "    time.sleep(5)\n",
    "    #Scroll down to the bottom of the page \n",
    "    driver.execute_script(\"window.scrollTo(0, document.body.scrollHeight);\")\n",
    "    #wait for page to be loaded\n",
    "    time.sleep(5)\n",
    "    #find and click 'next' button\n",
    "    next_page_button = driver.find_element('xpath', '//*[@id=\"menu-items-report_wrapper\"]/div[4]/div/div/ul/li[7]/a')\n",
    "    next_page_button.click()\n",
    "    time.sleep(5)\n",
    "    \n",
    "    page += 1"
   ]
  },
  {
   "cell_type": "code",
   "execution_count": 473,
   "id": "eec07f92",
   "metadata": {},
   "outputs": [],
   "source": [
    "# Check for duplicate pages (error in crawling/page switching)\n",
    "# For loop to select page's list\n",
    "for i in range(len(nov_order_number)):\n",
    "    # Nested for loop to go through other pages' lists\n",
    "    for j in range(i+1, len(nov_order_number)):\n",
    "        # Evaluation to see if page i's data is equal to other lists' data\n",
    "        if nov_order_number[i] == nov_order_number[j]:\n",
    "            # Show where the duplicates are found\n",
    "            print(\"The lists at index {} and {} are equal: {}\".format(i, j)"
   ]
  },
  {
   "cell_type": "code",
   "execution_count": 362,
   "id": "986b45f6",
   "metadata": {},
   "outputs": [],
   "source": [
    "# Combine page lists into one huge list\n",
    "complete_nov_order_number = [inner_item for outer_item in nov_order_number for inner_item in outer_item]\n",
    "complete_nov_sent_date = [inner_item for outer_item in nov_sent_date for inner_item in outer_item]\n",
    "complete_nov_menu_item = [inner_item for outer_item in nov_menu_item for inner_item in outer_item]\n",
    "complete_nov_menu_group = [inner_item for outer_item in nov_menu_group for inner_item in outer_item]\n",
    "complete_nov_menu = [inner_item for outer_item in nov_menu for inner_item in outer_item]\n",
    "complete_nov_sales_category = [inner_item for outer_item in nov_sales_category for inner_item in outer_item]\n",
    "complete_nov_net_price = [inner_item for outer_item in nov_net_price for inner_item in outer_item]\n",
    "complete_nov_quantity = [inner_item for outer_item in nov_quantity for inner_item in outer_item]\n",
    "complete_nov_void = [inner_item for outer_item in nov_void for inner_item in outer_item]"
   ]
  },
  {
   "cell_type": "code",
   "execution_count": 363,
   "id": "aa70307c",
   "metadata": {},
   "outputs": [
    {
     "data": {
      "text/plain": [
       "(6815, 9)"
      ]
     },
     "execution_count": 363,
     "metadata": {},
     "output_type": "execute_result"
    }
   ],
   "source": [
    "# Create data frame for month\n",
    "nov_item_details = {'Order Number': complete_nov_order_number, \n",
    "                'Sent Date': complete_nov_sent_date, \n",
    "                'Menu Item': complete_nov_menu_item, \n",
    "                'Menu Group': complete_nov_menu_group, \n",
    "                'Menu': complete_nov_menu, \n",
    "                'Sales Category': complete_nov_sales_category, \n",
    "                'Net Price': complete_nov_net_price,\n",
    "                'Quantity': complete_nov_quantity, \n",
    "                'Void?': complete_nov_void\n",
    "                }\n",
    "\n",
    "nov_item_details = pd.DataFrame(nov_item_details)\n",
    "nov_item_details.sort_values(by = \"Sent Date\")\n",
    "nov_item_details.shape"
   ]
  },
  {
   "cell_type": "code",
   "execution_count": 366,
   "id": "f4d7f397",
   "metadata": {},
   "outputs": [],
   "source": [
    "# Download to CSV\n",
    "nov_item_details.to_csv('/Users/sigfus/Desktop/nov_item_details.csv', sep = ',', encoding = 'utf-8')"
   ]
  },
  {
   "cell_type": "markdown",
   "id": "5a12af10",
   "metadata": {},
   "source": [
    "## Combining monthly data frames into one"
   ]
  },
  {
   "cell_type": "code",
   "execution_count": 493,
   "id": "fcdcdca5",
   "metadata": {},
   "outputs": [],
   "source": [
    "# Create a list of the 12 monthly data frames\n",
    "item_details_seperate = [dec_22_item_details, jan_item_details, feb_item_details, \n",
    "                         mar_item_details, apr_item_details, may_item_details, \n",
    "                         jun_item_details, jul_item_details, aug_item_details, \n",
    "                         sep_item_details, oct_item_details, nov_item_details]"
   ]
  },
  {
   "cell_type": "code",
   "execution_count": 497,
   "id": "c683e1de",
   "metadata": {},
   "outputs": [
    {
     "data": {
      "text/plain": [
       "(67459, 9)"
      ]
     },
     "execution_count": 497,
     "metadata": {},
     "output_type": "execute_result"
    }
   ],
   "source": [
    "# Combine them into one data frame with a new index rather than index from monthly data frames\n",
    "item_details_full = pd.concat(item_details_seperate, ignore_index=True)\n",
    "item_details_full.shape"
   ]
  },
  {
   "cell_type": "code",
   "execution_count": 496,
   "id": "6d8a0a13",
   "metadata": {},
   "outputs": [],
   "source": [
    "# Download to CSV\n",
    "item_details_full.to_csv('/Users/sigfus/Desktop/item_details_full.csv', sep = ',', encoding = 'utf-8')"
   ]
  },
  {
   "cell_type": "code",
   "execution_count": null,
   "id": "90c1fd90",
   "metadata": {},
   "outputs": [],
   "source": []
  }
 ],
 "metadata": {
  "kernelspec": {
   "display_name": "Python 3 (ipykernel)",
   "language": "python",
   "name": "python3"
  },
  "language_info": {
   "codemirror_mode": {
    "name": "ipython",
    "version": 3
   },
   "file_extension": ".py",
   "mimetype": "text/x-python",
   "name": "python",
   "nbconvert_exporter": "python",
   "pygments_lexer": "ipython3",
   "version": "3.9.13"
  }
 },
 "nbformat": 4,
 "nbformat_minor": 5
}
